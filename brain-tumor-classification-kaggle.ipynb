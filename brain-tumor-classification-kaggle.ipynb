{
 "cells": [
  {
   "cell_type": "code",
   "execution_count": 1,
   "id": "d2a84568",
   "metadata": {
    "execution": {
     "iopub.execute_input": "2021-08-24T05:20:06.396495Z",
     "iopub.status.busy": "2021-08-24T05:20:06.395631Z",
     "iopub.status.idle": "2021-08-24T05:20:13.535850Z",
     "shell.execute_reply": "2021-08-24T05:20:13.536372Z",
     "shell.execute_reply.started": "2021-08-24T04:42:18.578280Z"
    },
    "papermill": {
     "duration": 7.163784,
     "end_time": "2021-08-24T05:20:13.536715",
     "exception": false,
     "start_time": "2021-08-24T05:20:06.372931",
     "status": "completed"
    },
    "tags": []
   },
   "outputs": [],
   "source": [
    "import cv2\n",
    "import os\n",
    "import numpy as np\n",
    "import pandas as pd\n",
    "import pydicom\n",
    "import re\n",
    "from tqdm import tqdm\n",
    "\n",
    "from sklearn.model_selection import train_test_split\n",
    "import tensorflow as tf"
   ]
  },
  {
   "cell_type": "code",
   "execution_count": 2,
   "id": "cdf6839a",
   "metadata": {
    "_cell_guid": "b1076dfc-b9ad-4769-8c92-a6c4dae69d19",
    "_uuid": "8f2839f25d086af736a60e9eeb907d3b93b6e0e5",
    "execution": {
     "iopub.execute_input": "2021-08-24T05:20:13.565888Z",
     "iopub.status.busy": "2021-08-24T05:20:13.565049Z",
     "iopub.status.idle": "2021-08-24T05:20:13.610801Z",
     "shell.execute_reply": "2021-08-24T05:20:13.611547Z",
     "shell.execute_reply.started": "2021-08-24T04:42:21.545219Z"
    },
    "papermill": {
     "duration": 0.064834,
     "end_time": "2021-08-24T05:20:13.611787",
     "exception": false,
     "start_time": "2021-08-24T05:20:13.546953",
     "status": "completed"
    },
    "tags": []
   },
   "outputs": [
    {
     "name": "stdout",
     "output_type": "stream",
     "text": [
      "(465, 2) (117, 2)\n"
     ]
    },
    {
     "data": {
      "text/html": [
       "<div>\n",
       "<style scoped>\n",
       "    .dataframe tbody tr th:only-of-type {\n",
       "        vertical-align: middle;\n",
       "    }\n",
       "\n",
       "    .dataframe tbody tr th {\n",
       "        vertical-align: top;\n",
       "    }\n",
       "\n",
       "    .dataframe thead th {\n",
       "        text-align: right;\n",
       "    }\n",
       "</style>\n",
       "<table border=\"1\" class=\"dataframe\">\n",
       "  <thead>\n",
       "    <tr style=\"text-align: right;\">\n",
       "      <th></th>\n",
       "      <th>BraTS21ID</th>\n",
       "      <th>MGMT_value</th>\n",
       "    </tr>\n",
       "  </thead>\n",
       "  <tbody>\n",
       "    <tr>\n",
       "      <th>233</th>\n",
       "      <td>339</td>\n",
       "      <td>0</td>\n",
       "    </tr>\n",
       "    <tr>\n",
       "      <th>142</th>\n",
       "      <td>214</td>\n",
       "      <td>0</td>\n",
       "    </tr>\n",
       "    <tr>\n",
       "      <th>123</th>\n",
       "      <td>186</td>\n",
       "      <td>1</td>\n",
       "    </tr>\n",
       "    <tr>\n",
       "      <th>82</th>\n",
       "      <td>124</td>\n",
       "      <td>0</td>\n",
       "    </tr>\n",
       "    <tr>\n",
       "      <th>232</th>\n",
       "      <td>338</td>\n",
       "      <td>1</td>\n",
       "    </tr>\n",
       "  </tbody>\n",
       "</table>\n",
       "</div>"
      ],
      "text/plain": [
       "     BraTS21ID  MGMT_value\n",
       "233        339           0\n",
       "142        214           0\n",
       "123        186           1\n",
       "82         124           0\n",
       "232        338           1"
      ]
     },
     "execution_count": 2,
     "metadata": {},
     "output_type": "execute_result"
    }
   ],
   "source": [
    "# Training a 3D classifier on 1 MRI Type\n",
    "\n",
    "# define some data hyperparameters\n",
    "MRI_TYPES = [\"FLAIR\", \"T1w\", \"T1wCE\", \"T2w\"]\n",
    "MRI_TYPE = \"FLAIR\"\n",
    "DATA_DIR = \"/kaggle/input/rsna-miccai-brain-tumor-radiogenomic-classification\"\n",
    "BUFFER_SIZE = 128\n",
    "\n",
    "VALID_PROP = 0.2\n",
    "BATCH_SIZE = 32\n",
    "EPOCHS = 10\n",
    "WIDTH = 128\n",
    "HEIGHT = 128\n",
    "DEPTH = 16\n",
    "\n",
    "# get the training labels and remove bad data\n",
    "label_df = pd.read_csv(os.path.join(DATA_DIR, \"train_labels.csv\"))\n",
    "label_df = label_df.loc[~label_df[\"BraTS21ID\"].isin([109, 123, 709])]\n",
    "\n",
    "# create train/validation split\n",
    "train_df, valid_df = train_test_split(label_df, test_size=VALID_PROP)\n",
    "print(train_df.shape, valid_df.shape)\n",
    "train_df.head()"
   ]
  },
  {
   "cell_type": "code",
   "execution_count": 3,
   "id": "fcc804c8",
   "metadata": {
    "execution": {
     "iopub.execute_input": "2021-08-24T05:20:13.651640Z",
     "iopub.status.busy": "2021-08-24T05:20:13.650562Z",
     "iopub.status.idle": "2021-08-24T05:20:13.653964Z",
     "shell.execute_reply": "2021-08-24T05:20:13.653385Z",
     "shell.execute_reply.started": "2021-08-24T04:42:23.828747Z"
    },
    "papermill": {
     "duration": 0.031166,
     "end_time": "2021-08-24T05:20:13.654123",
     "exception": false,
     "start_time": "2021-08-24T05:20:13.622957",
     "status": "completed"
    },
    "tags": []
   },
   "outputs": [],
   "source": [
    "# 1st WAY TO LOAD AND PREPROCESS DATA - SLOW\n",
    "\n",
    "# sorting a file by its number\n",
    "def filenum(filename):\n",
    "    return int(re.search(\"\\d+\", filename).group(0))\n",
    "\n",
    "# define function that obtains data given id\n",
    "def id2data(id, mri_type, split=\"train\"):\n",
    "    scans_dir = os.path.join(DATA_DIR, split, id, mri_type)\n",
    "    scan_files = sorted(os.listdir(scans_dir), key=filenum)\n",
    "    data = []\n",
    "\n",
    "    # want DEPTH scans\n",
    "    num_scans = len(scan_files)\n",
    "    if num_scans >= DEPTH:\n",
    "        # get middle scans if enough scans\n",
    "        start = num_scans // 2 - DEPTH // 2\n",
    "        selected_files = scan_files[start:start+DEPTH]\n",
    "    else:\n",
    "        # pad if not enough scans\n",
    "        total_pad = DEPTH - num_scans\n",
    "        left_pad = [\"PAD\"] * (total_pad // 2)\n",
    "        right_pad = [\"PAD\"] * (total_pad - len(left_pad))\n",
    "        selected_files = left_pad + scan_files + right_pad\n",
    "    \n",
    "    data3d = []\n",
    "    for scan_file in selected_files:\n",
    "        if scan_file != \"PAD\":\n",
    "            # read the scan and reshape\n",
    "            scan = pydicom.dcmread(os.path.join(scans_dir, scan_file))\n",
    "            scan_arr = scan.pixel_array\n",
    "            scan_arr = cv2.resize(scan_arr, (WIDTH, HEIGHT), cv2.INTER_LANCZOS4)\n",
    "        else:\n",
    "            # pad with zero image\n",
    "            scan_arr = np.zeros((WIDTH, HEIGHT))\n",
    "        \n",
    "        data3d.append(scan_arr)\n",
    "        \n",
    "    # stack in to nparray and remove nans\n",
    "    data3d = np.stack(data3d)\n",
    "    \n",
    "    # remove nans and normalize pixel values to [0, 1]\n",
    "    data3d = np.nan_to_num(data3d, nan=0.0)\n",
    "    data3d = data3d - np.min(data3d)\n",
    "    if np.max(data3d) > 0:\n",
    "        data3d = data3d / np.max(data3d)\n",
    "    \n",
    "    assert data3d.shape == (DEPTH, WIDTH, HEIGHT)\n",
    "    assert not np.any(np.isnan(data3d))\n",
    "    return tf.reshape(tf.convert_to_tensor(data3d, dtype=tf.float32), (DEPTH, WIDTH, HEIGHT, 1))\n",
    "    \n",
    "\n",
    "# create a generator initializer\n",
    "def file_gen_init(df, mri_type):\n",
    "    \n",
    "    def file_gen():\n",
    "        for idx in range(df.shape[0]):\n",
    "            id = str(df[\"BraTS21ID\"].iloc[idx]).zfill(5)\n",
    "            x = id2data(id, mri_type)\n",
    "            y = int(df[\"MGMT_value\"].iloc[idx])\n",
    "            yield x, y\n",
    "            \n",
    "    return file_gen"
   ]
  },
  {
   "cell_type": "code",
   "execution_count": 4,
   "id": "498c4836",
   "metadata": {
    "execution": {
     "iopub.execute_input": "2021-08-24T05:20:13.687997Z",
     "iopub.status.busy": "2021-08-24T05:20:13.687195Z",
     "iopub.status.idle": "2021-08-24T05:20:13.694339Z",
     "shell.execute_reply": "2021-08-24T05:20:13.695088Z",
     "shell.execute_reply.started": "2021-08-24T04:53:07.780411Z"
    },
    "papermill": {
     "duration": 0.029516,
     "end_time": "2021-08-24T05:20:13.695290",
     "exception": false,
     "start_time": "2021-08-24T05:20:13.665774",
     "status": "completed"
    },
    "tags": []
   },
   "outputs": [],
   "source": [
    "# 2nd WAY TO LOAD DATA AND PREPROCESS DATA - slow at start, but faster loading times\n",
    "\n",
    "def pad_depth(data):\n",
    "    \n",
    "    num_scans = data.shape[0]\n",
    "    if num_scans >= DEPTH:\n",
    "        # choose middle DEPTH scans\n",
    "        start = num_scans // 2 - DEPTH // 2\n",
    "        return data[start:start+DEPTH]\n",
    "    else:\n",
    "        # pad the scans with empty images\n",
    "        pad_size = DEPTH - num_scans\n",
    "        pad_left = np.zeros((pad_size // 2, WIDTH, HEIGHT, 1))\n",
    "        pad_right = np.zeros((pad_size - pad_left.shape[0], WIDTH, HEIGHT, 1))\n",
    "        return np.concatenate([pad_left, data, pad_right])\n",
    "        \n",
    "\n",
    "def load_data(df, mri_type):\n",
    "    \n",
    "    data = {}\n",
    "    \n",
    "    # for each patients scan\n",
    "    for id in tqdm(sorted(df[\"BraTS21ID\"])):\n",
    "        patient_id = str(id).zfill(5)\n",
    "        scans_dir = os.path.join(DATA_DIR, \"train\", patient_id, mri_type)\n",
    "        scans = []\n",
    "        for scan_file in sorted(os.listdir(scans_dir), key=filenum):\n",
    "            scan = pydicom.dcmread(os.path.join(scans_dir, scan_file))\n",
    "            scan_arr = scan.pixel_array\n",
    "            \n",
    "            # include non-empty files, replace nans, reshape, and normalize to range [0, 1]\n",
    "            if np.max(scan_arr) != 0:\n",
    "                scan_arr = np.nan_to_num(scan_arr, nan=0.0)\n",
    "                scan_arr = cv2.resize(scan_arr, (WIDTH, HEIGHT), interpolation=cv2.INTER_LANCZOS4)\n",
    "                scan_arr = scan_arr - np.min(scan_arr)\n",
    "                scan_arr = scan_arr / np.max(scan_arr)\n",
    "                scan_arr = np.reshape(scan_arr, (WIDTH, HEIGHT, 1))\n",
    "                \n",
    "                scans.append(scan_arr)\n",
    "                \n",
    "        data[patient_id] = pad_depth(np.stack(scans))\n",
    "        \n",
    "    return data\n",
    "    \n",
    "\n",
    "def data_gen_init(df, mri_type):\n",
    "    \n",
    "    data = load_data(df, mri_type)\n",
    "    info = [(str(id).zfill(5), label) for id, label in zip(df[\"BraTS21ID\"].tolist(), df[\"MGMT_value\"].tolist())]\n",
    "    \n",
    "    def file_gen():\n",
    "        for id, label in info:\n",
    "            yield data[id], label\n",
    "\n",
    "    return file_gen"
   ]
  },
  {
   "cell_type": "code",
   "execution_count": 5,
   "id": "d796a05c",
   "metadata": {
    "execution": {
     "iopub.execute_input": "2021-08-24T05:20:13.721540Z",
     "iopub.status.busy": "2021-08-24T05:20:13.720868Z",
     "iopub.status.idle": "2021-08-24T05:32:08.814594Z",
     "shell.execute_reply": "2021-08-24T05:32:08.815362Z",
     "shell.execute_reply.started": "2021-08-24T04:53:08.323934Z"
    },
    "papermill": {
     "duration": 715.108913,
     "end_time": "2021-08-24T05:32:08.815611",
     "exception": false,
     "start_time": "2021-08-24T05:20:13.706698",
     "status": "completed"
    },
    "tags": []
   },
   "outputs": [
    {
     "name": "stderr",
     "output_type": "stream",
     "text": [
      "  3%|▎         | 12/465 [00:26<13:46,  1.82s/it]/opt/conda/lib/python3.7/site-packages/ipykernel_launcher.py:36: RuntimeWarning: invalid value encountered in true_divide\n",
      "100%|██████████| 465/465 [09:20<00:00,  1.21s/it]\n",
      "100%|██████████| 117/117 [02:34<00:00,  1.32s/it]\n"
     ]
    }
   ],
   "source": [
    "train_ds = tf.data.Dataset.from_generator(data_gen_init(train_df, \"FLAIR\"), output_signature=(tf.TensorSpec(shape=(DEPTH, WIDTH, HEIGHT, 1)), tf.TensorSpec(shape=(), dtype=tf.int32)))\n",
    "valid_ds = tf.data.Dataset.from_generator(data_gen_init(valid_df, \"FLAIR\"), output_signature=(tf.TensorSpec(shape=(DEPTH, WIDTH, HEIGHT, 1)), tf.TensorSpec(shape=(), dtype=tf.int32)))\n",
    "\n",
    "train_ds = train_ds.shuffle(BUFFER_SIZE).batch(BATCH_SIZE).prefetch(1)\n",
    "valid_ds = valid_ds.shuffle(BUFFER_SIZE).batch(BATCH_SIZE).prefetch(1)"
   ]
  },
  {
   "cell_type": "code",
   "execution_count": 6,
   "id": "51c9bc58",
   "metadata": {
    "execution": {
     "iopub.execute_input": "2021-08-24T05:32:09.201546Z",
     "iopub.status.busy": "2021-08-24T05:32:09.200709Z",
     "iopub.status.idle": "2021-08-24T05:32:09.471711Z",
     "shell.execute_reply": "2021-08-24T05:32:09.472266Z",
     "shell.execute_reply.started": "2021-08-24T05:03:41.300476Z"
    },
    "papermill": {
     "duration": 0.470268,
     "end_time": "2021-08-24T05:32:09.472440",
     "exception": false,
     "start_time": "2021-08-24T05:32:09.002172",
     "status": "completed"
    },
    "tags": []
   },
   "outputs": [
    {
     "name": "stdout",
     "output_type": "stream",
     "text": [
      "Model: \"sequential\"\n",
      "_________________________________________________________________\n",
      "Layer (type)                 Output Shape              Param #   \n",
      "=================================================================\n",
      "conv3d (Conv3D)              (None, 7, 63, 63, 8)      224       \n",
      "_________________________________________________________________\n",
      "conv3d_1 (Conv3D)            (None, 5, 61, 61, 16)     3472      \n",
      "_________________________________________________________________\n",
      "max_pooling3d (MaxPooling3D) (None, 1, 20, 20, 16)     0         \n",
      "_________________________________________________________________\n",
      "conv3d_2 (Conv3D)            (None, 1, 18, 18, 32)     4640      \n",
      "_________________________________________________________________\n",
      "max_pooling3d_1 (MaxPooling3 (None, 1, 6, 6, 32)       0         \n",
      "_________________________________________________________________\n",
      "flatten (Flatten)            (None, 1152)              0         \n",
      "_________________________________________________________________\n",
      "dense (Dense)                (None, 32)                36896     \n",
      "_________________________________________________________________\n",
      "dense_1 (Dense)              (None, 1)                 33        \n",
      "=================================================================\n",
      "Total params: 45,265\n",
      "Trainable params: 45,265\n",
      "Non-trainable params: 0\n",
      "_________________________________________________________________\n"
     ]
    }
   ],
   "source": [
    "import tensorflow.keras.layers as layers\n",
    "\n",
    "# create a model\n",
    "def create_model():\n",
    "    model = tf.keras.Sequential()\n",
    "    model.add(layers.InputLayer(input_shape=(DEPTH, WIDTH, HEIGHT, 1)))\n",
    "    model.add(layers.Conv3D(8, (3,3,3), strides=(2,2,2)))\n",
    "    model.add(layers.Conv3D(16, (3,3,3), strides=(1,1,1)))\n",
    "    model.add(layers.MaxPool3D((3,3,3)))\n",
    "    \n",
    "    model.add(layers.Conv3D(32, (1,3,3), strides=(1,1,1)))\n",
    "    model.add(layers.MaxPool3D((1,3,3)))\n",
    "    \n",
    "    model.add(layers.Flatten())\n",
    "    model.add(layers.Dense(32, activation=\"relu\"))\n",
    "    model.add(layers.Dense(1, activation=\"sigmoid\"))\n",
    "    \n",
    "    return model\n",
    "\n",
    "model = create_model()\n",
    "model.summary()"
   ]
  },
  {
   "cell_type": "code",
   "execution_count": 7,
   "id": "510cfbe6",
   "metadata": {
    "execution": {
     "iopub.execute_input": "2021-08-24T05:32:09.848923Z",
     "iopub.status.busy": "2021-08-24T05:32:09.848291Z",
     "iopub.status.idle": "2021-08-24T05:35:54.419154Z",
     "shell.execute_reply": "2021-08-24T05:35:54.419613Z"
    },
    "papermill": {
     "duration": 224.759832,
     "end_time": "2021-08-24T05:35:54.419829",
     "exception": false,
     "start_time": "2021-08-24T05:32:09.659997",
     "status": "completed"
    },
    "tags": []
   },
   "outputs": [
    {
     "name": "stdout",
     "output_type": "stream",
     "text": [
      "Epoch 1/10\n",
      "15/15 [==============================] - 24s 2s/step - loss: 0.6978 - accuracy: 0.4896 - val_loss: 0.6923 - val_accuracy: 0.5128\n",
      "Epoch 2/10\n",
      "15/15 [==============================] - 22s 1s/step - loss: 0.6947 - accuracy: 0.5103 - val_loss: 0.6916 - val_accuracy: 0.5128\n",
      "Epoch 3/10\n",
      "15/15 [==============================] - 22s 1s/step - loss: 0.6903 - accuracy: 0.5298 - val_loss: 0.6911 - val_accuracy: 0.5214\n",
      "Epoch 4/10\n",
      "15/15 [==============================] - 22s 1s/step - loss: 0.6861 - accuracy: 0.5476 - val_loss: 0.6904 - val_accuracy: 0.5214\n",
      "Epoch 5/10\n",
      "15/15 [==============================] - 22s 1s/step - loss: 0.6872 - accuracy: 0.5253 - val_loss: 0.6899 - val_accuracy: 0.5128\n",
      "Epoch 6/10\n",
      "15/15 [==============================] - 22s 1s/step - loss: 0.6875 - accuracy: 0.5334 - val_loss: 0.6893 - val_accuracy: 0.5299\n",
      "Epoch 7/10\n",
      "15/15 [==============================] - 22s 1s/step - loss: 0.6849 - accuracy: 0.5125 - val_loss: 0.6894 - val_accuracy: 0.5043\n",
      "Epoch 8/10\n",
      "15/15 [==============================] - 22s 1s/step - loss: 0.6848 - accuracy: 0.5260 - val_loss: 0.6895 - val_accuracy: 0.5128\n",
      "Epoch 9/10\n",
      "15/15 [==============================] - 22s 1s/step - loss: 0.6821 - accuracy: 0.5466 - val_loss: 0.6894 - val_accuracy: 0.5043\n",
      "Epoch 10/10\n",
      "15/15 [==============================] - 22s 1s/step - loss: 0.6819 - accuracy: 0.5134 - val_loss: 0.6895 - val_accuracy: 0.5214\n"
     ]
    },
    {
     "data": {
      "text/plain": [
       "<tensorflow.python.keras.callbacks.History at 0x7f10d2a8e110>"
      ]
     },
     "execution_count": 7,
     "metadata": {},
     "output_type": "execute_result"
    }
   ],
   "source": [
    "\n",
    "# compile and train the model\n",
    "model.compile(optimizer=tf.keras.optimizers.Adagrad(learning_rate=0.001),\n",
    "              loss=tf.keras.losses.BinaryCrossentropy(),\n",
    "              metrics=[\"accuracy\"])\n",
    "\n",
    "model.fit(train_ds,\n",
    "          epochs=EPOCHS,\n",
    "          validation_data=valid_ds,\n",
    "          verbose=1)"
   ]
  },
  {
   "cell_type": "code",
   "execution_count": 8,
   "id": "356625cf",
   "metadata": {
    "execution": {
     "iopub.execute_input": "2021-08-24T05:35:54.899427Z",
     "iopub.status.busy": "2021-08-24T05:35:54.898777Z",
     "iopub.status.idle": "2021-08-24T05:36:12.905980Z",
     "shell.execute_reply": "2021-08-24T05:36:12.906431Z",
     "shell.execute_reply.started": "2021-08-24T05:11:15.646292Z"
    },
    "papermill": {
     "duration": 18.248545,
     "end_time": "2021-08-24T05:36:12.906621",
     "exception": false,
     "start_time": "2021-08-24T05:35:54.658076",
     "status": "completed"
    },
    "tags": []
   },
   "outputs": [
    {
     "name": "stderr",
     "output_type": "stream",
     "text": [
      "100%|██████████| 87/87 [00:17<00:00,  4.84it/s]\n"
     ]
    }
   ],
   "source": [
    "from tqdm import tqdm\n",
    "import pandas as pd\n",
    "\n",
    "# predict on test data and submit\n",
    "\n",
    "results = {\"BraTS21ID\": [], \"MGMT_value\": []}\n",
    "test_dir = os.path.join(DATA_DIR, \"test\")\n",
    "\n",
    "for patient_id in tqdm(sorted(os.listdir(test_dir), key=filenum)):\n",
    "    y_pred = model.predict(tf.expand_dims(id2data(patient_id, \"FLAIR\", split=\"test\"), axis=0))\n",
    "    results[\"BraTS21ID\"].append(patient_id)\n",
    "    results[\"MGMT_value\"].append(y_pred[0][0])\n",
    "\n",
    "submission_df = pd.DataFrame(results)\n",
    "submission_df.to_csv(\"submission.csv\", index=False)"
   ]
  },
  {
   "cell_type": "code",
   "execution_count": 9,
   "id": "51ecab00",
   "metadata": {
    "execution": {
     "iopub.execute_input": "2021-08-24T05:36:13.471837Z",
     "iopub.status.busy": "2021-08-24T05:36:13.471167Z",
     "iopub.status.idle": "2021-08-24T05:36:13.490399Z",
     "shell.execute_reply": "2021-08-24T05:36:13.489759Z",
     "shell.execute_reply.started": "2021-08-24T05:11:22.442594Z"
    },
    "papermill": {
     "duration": 0.308707,
     "end_time": "2021-08-24T05:36:13.490531",
     "exception": false,
     "start_time": "2021-08-24T05:36:13.181824",
     "status": "completed"
    },
    "tags": []
   },
   "outputs": [
    {
     "data": {
      "text/html": [
       "<div>\n",
       "<style scoped>\n",
       "    .dataframe tbody tr th:only-of-type {\n",
       "        vertical-align: middle;\n",
       "    }\n",
       "\n",
       "    .dataframe tbody tr th {\n",
       "        vertical-align: top;\n",
       "    }\n",
       "\n",
       "    .dataframe thead th {\n",
       "        text-align: right;\n",
       "    }\n",
       "</style>\n",
       "<table border=\"1\" class=\"dataframe\">\n",
       "  <thead>\n",
       "    <tr style=\"text-align: right;\">\n",
       "      <th></th>\n",
       "      <th>BraTS21ID</th>\n",
       "      <th>MGMT_value</th>\n",
       "    </tr>\n",
       "  </thead>\n",
       "  <tbody>\n",
       "    <tr>\n",
       "      <th>0</th>\n",
       "      <td>1</td>\n",
       "      <td>0.534380</td>\n",
       "    </tr>\n",
       "    <tr>\n",
       "      <th>1</th>\n",
       "      <td>13</td>\n",
       "      <td>0.574129</td>\n",
       "    </tr>\n",
       "    <tr>\n",
       "      <th>2</th>\n",
       "      <td>15</td>\n",
       "      <td>0.496479</td>\n",
       "    </tr>\n",
       "    <tr>\n",
       "      <th>3</th>\n",
       "      <td>27</td>\n",
       "      <td>0.525022</td>\n",
       "    </tr>\n",
       "    <tr>\n",
       "      <th>4</th>\n",
       "      <td>37</td>\n",
       "      <td>0.565296</td>\n",
       "    </tr>\n",
       "  </tbody>\n",
       "</table>\n",
       "</div>"
      ],
      "text/plain": [
       "   BraTS21ID  MGMT_value\n",
       "0          1    0.534380\n",
       "1         13    0.574129\n",
       "2         15    0.496479\n",
       "3         27    0.525022\n",
       "4         37    0.565296"
      ]
     },
     "execution_count": 9,
     "metadata": {},
     "output_type": "execute_result"
    }
   ],
   "source": [
    "pd.read_csv(\"submission.csv\").head(5)"
   ]
  },
  {
   "cell_type": "code",
   "execution_count": null,
   "id": "12161fbc",
   "metadata": {
    "papermill": {
     "duration": 0.266377,
     "end_time": "2021-08-24T05:36:14.086255",
     "exception": false,
     "start_time": "2021-08-24T05:36:13.819878",
     "status": "completed"
    },
    "tags": []
   },
   "outputs": [],
   "source": []
  }
 ],
 "metadata": {
  "kernelspec": {
   "display_name": "Python 3",
   "language": "python",
   "name": "python3"
  },
  "language_info": {
   "codemirror_mode": {
    "name": "ipython",
    "version": 3
   },
   "file_extension": ".py",
   "mimetype": "text/x-python",
   "name": "python",
   "nbconvert_exporter": "python",
   "pygments_lexer": "ipython3",
   "version": "3.7.10"
  },
  "papermill": {
   "default_parameters": {},
   "duration": 980.249037,
   "end_time": "2021-08-24T05:36:16.801642",
   "environment_variables": {},
   "exception": null,
   "input_path": "__notebook__.ipynb",
   "output_path": "__notebook__.ipynb",
   "parameters": {},
   "start_time": "2021-08-24T05:19:56.552605",
   "version": "2.3.3"
  }
 },
 "nbformat": 4,
 "nbformat_minor": 5
}
